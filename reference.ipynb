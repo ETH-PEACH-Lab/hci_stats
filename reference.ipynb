{
 "cells": [
  {
   "cell_type": "markdown",
   "id": "0d5e1cb8",
   "metadata": {},
   "source": [
    "# VR Controller Data Analysis"
   ]
  },
  {
   "cell_type": "markdown",
   "id": "7af325a7",
   "metadata": {},
   "source": [
    "## Introduction\n",
    "\n",
    "Which VR controller is better?\n",
    "\n",
    "Task: Selection in 3D (easy, medium, hard)\n",
    "\n",
    "- IV1: Controller (2 levels: H, C)\n",
    "- IV2: Task difficulty (3 levels: E, M, H)\n",
    "- 6 Conditions:  HE,HM,HH,CE,CM,CH\n",
    "- Within-subject \n",
    "- DV1: Time to select target\n",
    "- DV2: Wrongly selected target\n",
    "- DV3: Perceived task load (preference)"
   ]
  },
  {
   "cell_type": "markdown",
   "id": "b5ba63a3",
   "metadata": {},
   "source": [
    "## Load Data and Package"
   ]
  },
  {
   "cell_type": "code",
   "execution_count": 45,
   "id": "a1f23d05",
   "metadata": {},
   "outputs": [],
   "source": [
    "# Import necessary packages\n",
    "\n",
    "import pandas as pd\n",
    "import numpy as np\n",
    "import matplotlib.pyplot as plt\n",
    "import seaborn as sns\n",
    "from scipy.stats import ttest_rel"
   ]
  },
  {
   "cell_type": "code",
   "execution_count": 46,
   "id": "b76de562",
   "metadata": {},
   "outputs": [
    {
     "data": {
      "text/html": [
       "<div>\n",
       "<style scoped>\n",
       "    .dataframe tbody tr th:only-of-type {\n",
       "        vertical-align: middle;\n",
       "    }\n",
       "\n",
       "    .dataframe tbody tr th {\n",
       "        vertical-align: top;\n",
       "    }\n",
       "\n",
       "    .dataframe thead th {\n",
       "        text-align: right;\n",
       "    }\n",
       "</style>\n",
       "<table border=\"1\" class=\"dataframe\">\n",
       "  <thead>\n",
       "    <tr style=\"text-align: right;\">\n",
       "      <th></th>\n",
       "      <th>Participant</th>\n",
       "      <th>Condition</th>\n",
       "      <th>Controller</th>\n",
       "      <th>Task_Difficulty</th>\n",
       "      <th>Time_to_Select</th>\n",
       "      <th>Wrongly_Selected_Target</th>\n",
       "      <th>Perceived_Task_Load</th>\n",
       "    </tr>\n",
       "  </thead>\n",
       "  <tbody>\n",
       "    <tr>\n",
       "      <th>0</th>\n",
       "      <td>1</td>\n",
       "      <td>HE</td>\n",
       "      <td>Hand</td>\n",
       "      <td>Easy</td>\n",
       "      <td>5.548357</td>\n",
       "      <td>0</td>\n",
       "      <td>5</td>\n",
       "    </tr>\n",
       "    <tr>\n",
       "      <th>1</th>\n",
       "      <td>1</td>\n",
       "      <td>CE</td>\n",
       "      <td>Controller</td>\n",
       "      <td>Easy</td>\n",
       "      <td>4.730868</td>\n",
       "      <td>0</td>\n",
       "      <td>2</td>\n",
       "    </tr>\n",
       "    <tr>\n",
       "      <th>2</th>\n",
       "      <td>1</td>\n",
       "      <td>HM</td>\n",
       "      <td>Hand</td>\n",
       "      <td>Medium</td>\n",
       "      <td>6.639521</td>\n",
       "      <td>1</td>\n",
       "      <td>3</td>\n",
       "    </tr>\n",
       "    <tr>\n",
       "      <th>3</th>\n",
       "      <td>1</td>\n",
       "      <td>CM</td>\n",
       "      <td>Controller</td>\n",
       "      <td>Medium</td>\n",
       "      <td>6.005258</td>\n",
       "      <td>0</td>\n",
       "      <td>5</td>\n",
       "    </tr>\n",
       "    <tr>\n",
       "      <th>4</th>\n",
       "      <td>1</td>\n",
       "      <td>HH</td>\n",
       "      <td>Hand</td>\n",
       "      <td>Hard</td>\n",
       "      <td>7.209561</td>\n",
       "      <td>1</td>\n",
       "      <td>1</td>\n",
       "    </tr>\n",
       "  </tbody>\n",
       "</table>\n",
       "</div>"
      ],
      "text/plain": [
       "   Participant Condition  Controller Task_Difficulty  Time_to_Select  \\\n",
       "0            1        HE        Hand            Easy        5.548357   \n",
       "1            1        CE  Controller            Easy        4.730868   \n",
       "2            1        HM        Hand          Medium        6.639521   \n",
       "3            1        CM  Controller          Medium        6.005258   \n",
       "4            1        HH        Hand            Hard        7.209561   \n",
       "\n",
       "   Wrongly_Selected_Target  Perceived_Task_Load  \n",
       "0                        0                    5  \n",
       "1                        0                    2  \n",
       "2                        1                    3  \n",
       "3                        0                    5  \n",
       "4                        1                    1  "
      ]
     },
     "execution_count": 46,
     "metadata": {},
     "output_type": "execute_result"
    }
   ],
   "source": [
    "# Load the dataset\n",
    "df = pd.read_csv(\"dataset.csv\")\n",
    "\n",
    "# Display the first few rows of the data\n",
    "df.head()"
   ]
  },
  {
   "cell_type": "markdown",
   "id": "b01334f0",
   "metadata": {},
   "source": [
    "## Hypothesis 1\n",
    "\n",
    "- *H1.1*: For easy tasks, controller A is faster than controller B.\n",
    "- *H1.1_0*: For easy tasks, there is no difference in speed between controller A and B\n",
    "\n",
    "- *H1.2*: For medium tasks, controller A is faster than controller B.\n",
    "- *H1.2_0*: For medium tasks, there is no difference in speed between controller A and B\n",
    "\n",
    "- *H1.3*: For hard tasks, controller A is faster than controller B.\n",
    "- *H1.3_0*: For hard tasks, there is no difference in speed between controller A and B"
   ]
  },
  {
   "cell_type": "markdown",
   "id": "216abe33",
   "metadata": {},
   "source": [
    "### Step 1. Check properties of your data"
   ]
  },
  {
   "cell_type": "markdown",
   "id": "9a5a2ae0",
   "metadata": {},
   "source": [
    "#### 1.1 Isolating the data from task difficulty\n"
   ]
  },
  {
   "cell_type": "code",
   "execution_count": 47,
   "id": "236c3dda",
   "metadata": {},
   "outputs": [
    {
     "data": {
      "text/html": [
       "<div>\n",
       "<style scoped>\n",
       "    .dataframe tbody tr th:only-of-type {\n",
       "        vertical-align: middle;\n",
       "    }\n",
       "\n",
       "    .dataframe tbody tr th {\n",
       "        vertical-align: top;\n",
       "    }\n",
       "\n",
       "    .dataframe thead th {\n",
       "        text-align: right;\n",
       "    }\n",
       "</style>\n",
       "<table border=\"1\" class=\"dataframe\">\n",
       "  <thead>\n",
       "    <tr style=\"text-align: right;\">\n",
       "      <th></th>\n",
       "      <th>Participant</th>\n",
       "      <th>Condition</th>\n",
       "      <th>Controller</th>\n",
       "      <th>Task_Difficulty</th>\n",
       "      <th>Time_to_Select</th>\n",
       "      <th>Wrongly_Selected_Target</th>\n",
       "      <th>Perceived_Task_Load</th>\n",
       "    </tr>\n",
       "  </thead>\n",
       "  <tbody>\n",
       "    <tr>\n",
       "      <th>0</th>\n",
       "      <td>1</td>\n",
       "      <td>HE</td>\n",
       "      <td>Hand</td>\n",
       "      <td>Easy</td>\n",
       "      <td>5.548357</td>\n",
       "      <td>0</td>\n",
       "      <td>5</td>\n",
       "    </tr>\n",
       "    <tr>\n",
       "      <th>1</th>\n",
       "      <td>1</td>\n",
       "      <td>CE</td>\n",
       "      <td>Controller</td>\n",
       "      <td>Easy</td>\n",
       "      <td>4.730868</td>\n",
       "      <td>0</td>\n",
       "      <td>2</td>\n",
       "    </tr>\n",
       "    <tr>\n",
       "      <th>6</th>\n",
       "      <td>2</td>\n",
       "      <td>HE</td>\n",
       "      <td>Hand</td>\n",
       "      <td>Easy</td>\n",
       "      <td>3.993725</td>\n",
       "      <td>1</td>\n",
       "      <td>3</td>\n",
       "    </tr>\n",
       "    <tr>\n",
       "      <th>7</th>\n",
       "      <td>2</td>\n",
       "      <td>CE</td>\n",
       "      <td>Controller</td>\n",
       "      <td>Easy</td>\n",
       "      <td>5.275185</td>\n",
       "      <td>1</td>\n",
       "      <td>2</td>\n",
       "    </tr>\n",
       "    <tr>\n",
       "      <th>12</th>\n",
       "      <td>3</td>\n",
       "      <td>HE</td>\n",
       "      <td>Hand</td>\n",
       "      <td>Easy</td>\n",
       "      <td>4.999873</td>\n",
       "      <td>2</td>\n",
       "      <td>2</td>\n",
       "    </tr>\n",
       "  </tbody>\n",
       "</table>\n",
       "</div>"
      ],
      "text/plain": [
       "    Participant Condition  Controller Task_Difficulty  Time_to_Select  \\\n",
       "0             1        HE        Hand            Easy        5.548357   \n",
       "1             1        CE  Controller            Easy        4.730868   \n",
       "6             2        HE        Hand            Easy        3.993725   \n",
       "7             2        CE  Controller            Easy        5.275185   \n",
       "12            3        HE        Hand            Easy        4.999873   \n",
       "\n",
       "    Wrongly_Selected_Target  Perceived_Task_Load  \n",
       "0                         0                    5  \n",
       "1                         0                    2  \n",
       "6                         1                    3  \n",
       "7                         1                    2  \n",
       "12                        2                    2  "
      ]
     },
     "execution_count": 47,
     "metadata": {},
     "output_type": "execute_result"
    }
   ],
   "source": [
    "easy_task_data = df[df['Task_Difficulty'] == 'Easy']\n",
    "easy_task_data.head()"
   ]
  },
  {
   "cell_type": "code",
   "execution_count": 48,
   "id": "72d953a6",
   "metadata": {},
   "outputs": [
    {
     "data": {
      "text/html": [
       "<div>\n",
       "<style scoped>\n",
       "    .dataframe tbody tr th:only-of-type {\n",
       "        vertical-align: middle;\n",
       "    }\n",
       "\n",
       "    .dataframe tbody tr th {\n",
       "        vertical-align: top;\n",
       "    }\n",
       "\n",
       "    .dataframe thead th {\n",
       "        text-align: right;\n",
       "    }\n",
       "</style>\n",
       "<table border=\"1\" class=\"dataframe\">\n",
       "  <thead>\n",
       "    <tr style=\"text-align: right;\">\n",
       "      <th></th>\n",
       "      <th>Participant</th>\n",
       "      <th>Condition</th>\n",
       "      <th>Controller</th>\n",
       "      <th>Task_Difficulty</th>\n",
       "      <th>Time_to_Select</th>\n",
       "      <th>Wrongly_Selected_Target</th>\n",
       "      <th>Perceived_Task_Load</th>\n",
       "    </tr>\n",
       "  </thead>\n",
       "  <tbody>\n",
       "    <tr>\n",
       "      <th>2</th>\n",
       "      <td>1</td>\n",
       "      <td>HM</td>\n",
       "      <td>Hand</td>\n",
       "      <td>Medium</td>\n",
       "      <td>6.639521</td>\n",
       "      <td>1</td>\n",
       "      <td>3</td>\n",
       "    </tr>\n",
       "    <tr>\n",
       "      <th>3</th>\n",
       "      <td>1</td>\n",
       "      <td>CM</td>\n",
       "      <td>Controller</td>\n",
       "      <td>Medium</td>\n",
       "      <td>6.005258</td>\n",
       "      <td>0</td>\n",
       "      <td>5</td>\n",
       "    </tr>\n",
       "    <tr>\n",
       "      <th>8</th>\n",
       "      <td>2</td>\n",
       "      <td>HM</td>\n",
       "      <td>Hand</td>\n",
       "      <td>Medium</td>\n",
       "      <td>6.374478</td>\n",
       "      <td>1</td>\n",
       "      <td>3</td>\n",
       "    </tr>\n",
       "    <tr>\n",
       "      <th>9</th>\n",
       "      <td>2</td>\n",
       "      <td>CM</td>\n",
       "      <td>Controller</td>\n",
       "      <td>Medium</td>\n",
       "      <td>5.418066</td>\n",
       "      <td>0</td>\n",
       "      <td>4</td>\n",
       "    </tr>\n",
       "    <tr>\n",
       "      <th>14</th>\n",
       "      <td>3</td>\n",
       "      <td>HM</td>\n",
       "      <td>Hand</td>\n",
       "      <td>Medium</td>\n",
       "      <td>5.989224</td>\n",
       "      <td>4</td>\n",
       "      <td>3</td>\n",
       "    </tr>\n",
       "  </tbody>\n",
       "</table>\n",
       "</div>"
      ],
      "text/plain": [
       "    Participant Condition  Controller Task_Difficulty  Time_to_Select  \\\n",
       "2             1        HM        Hand          Medium        6.639521   \n",
       "3             1        CM  Controller          Medium        6.005258   \n",
       "8             2        HM        Hand          Medium        6.374478   \n",
       "9             2        CM  Controller          Medium        5.418066   \n",
       "14            3        HM        Hand          Medium        5.989224   \n",
       "\n",
       "    Wrongly_Selected_Target  Perceived_Task_Load  \n",
       "2                         1                    3  \n",
       "3                         0                    5  \n",
       "8                         1                    3  \n",
       "9                         0                    4  \n",
       "14                        4                    3  "
      ]
     },
     "execution_count": 48,
     "metadata": {},
     "output_type": "execute_result"
    }
   ],
   "source": [
    "medium_task_data = df[df['Task_Difficulty'] == 'Medium']\n",
    "medium_task_data.head()"
   ]
  },
  {
   "cell_type": "code",
   "execution_count": 49,
   "id": "4c2374ea",
   "metadata": {},
   "outputs": [
    {
     "data": {
      "text/html": [
       "<div>\n",
       "<style scoped>\n",
       "    .dataframe tbody tr th:only-of-type {\n",
       "        vertical-align: middle;\n",
       "    }\n",
       "\n",
       "    .dataframe tbody tr th {\n",
       "        vertical-align: top;\n",
       "    }\n",
       "\n",
       "    .dataframe thead th {\n",
       "        text-align: right;\n",
       "    }\n",
       "</style>\n",
       "<table border=\"1\" class=\"dataframe\">\n",
       "  <thead>\n",
       "    <tr style=\"text-align: right;\">\n",
       "      <th></th>\n",
       "      <th>Participant</th>\n",
       "      <th>Condition</th>\n",
       "      <th>Controller</th>\n",
       "      <th>Task_Difficulty</th>\n",
       "      <th>Time_to_Select</th>\n",
       "      <th>Wrongly_Selected_Target</th>\n",
       "      <th>Perceived_Task_Load</th>\n",
       "    </tr>\n",
       "  </thead>\n",
       "  <tbody>\n",
       "    <tr>\n",
       "      <th>4</th>\n",
       "      <td>1</td>\n",
       "      <td>HH</td>\n",
       "      <td>Hand</td>\n",
       "      <td>Hard</td>\n",
       "      <td>7.209561</td>\n",
       "      <td>1</td>\n",
       "      <td>1</td>\n",
       "    </tr>\n",
       "    <tr>\n",
       "      <th>5</th>\n",
       "      <td>1</td>\n",
       "      <td>CH</td>\n",
       "      <td>Controller</td>\n",
       "      <td>Hard</td>\n",
       "      <td>5.737415</td>\n",
       "      <td>1</td>\n",
       "      <td>2</td>\n",
       "    </tr>\n",
       "    <tr>\n",
       "      <th>10</th>\n",
       "      <td>2</td>\n",
       "      <td>HH</td>\n",
       "      <td>Hand</td>\n",
       "      <td>Hard</td>\n",
       "      <td>7.227809</td>\n",
       "      <td>1</td>\n",
       "      <td>5</td>\n",
       "    </tr>\n",
       "    <tr>\n",
       "      <th>11</th>\n",
       "      <td>2</td>\n",
       "      <td>CH</td>\n",
       "      <td>Controller</td>\n",
       "      <td>Hard</td>\n",
       "      <td>6.055461</td>\n",
       "      <td>1</td>\n",
       "      <td>2</td>\n",
       "    </tr>\n",
       "    <tr>\n",
       "      <th>16</th>\n",
       "      <td>3</td>\n",
       "      <td>HH</td>\n",
       "      <td>Hand</td>\n",
       "      <td>Hard</td>\n",
       "      <td>7.911272</td>\n",
       "      <td>0</td>\n",
       "      <td>2</td>\n",
       "    </tr>\n",
       "  </tbody>\n",
       "</table>\n",
       "</div>"
      ],
      "text/plain": [
       "    Participant Condition  Controller Task_Difficulty  Time_to_Select  \\\n",
       "4             1        HH        Hand            Hard        7.209561   \n",
       "5             1        CH  Controller            Hard        5.737415   \n",
       "10            2        HH        Hand            Hard        7.227809   \n",
       "11            2        CH  Controller            Hard        6.055461   \n",
       "16            3        HH        Hand            Hard        7.911272   \n",
       "\n",
       "    Wrongly_Selected_Target  Perceived_Task_Load  \n",
       "4                         1                    1  \n",
       "5                         1                    2  \n",
       "10                        1                    5  \n",
       "11                        1                    2  \n",
       "16                        0                    2  "
      ]
     },
     "execution_count": 49,
     "metadata": {},
     "output_type": "execute_result"
    }
   ],
   "source": [
    "hard_task_data = df[df['Task_Difficulty'] == 'Hard']\n",
    "hard_task_data.head()"
   ]
  },
  {
   "cell_type": "markdown",
   "id": "2e99c1af",
   "metadata": {},
   "source": [
    "#### 1.2 Descriptive Statistics"
   ]
  },
  {
   "cell_type": "code",
   "execution_count": 50,
   "id": "c843fd4d",
   "metadata": {},
   "outputs": [
    {
     "data": {
      "text/html": [
       "<div>\n",
       "<style scoped>\n",
       "    .dataframe tbody tr th:only-of-type {\n",
       "        vertical-align: middle;\n",
       "    }\n",
       "\n",
       "    .dataframe tbody tr th {\n",
       "        vertical-align: top;\n",
       "    }\n",
       "\n",
       "    .dataframe thead tr th {\n",
       "        text-align: left;\n",
       "    }\n",
       "\n",
       "    .dataframe thead tr:last-of-type th {\n",
       "        text-align: right;\n",
       "    }\n",
       "</style>\n",
       "<table border=\"1\" class=\"dataframe\">\n",
       "  <thead>\n",
       "    <tr>\n",
       "      <th></th>\n",
       "      <th colspan=\"8\" halign=\"left\">Time_to_Select</th>\n",
       "    </tr>\n",
       "    <tr>\n",
       "      <th></th>\n",
       "      <th>count</th>\n",
       "      <th>mean</th>\n",
       "      <th>std</th>\n",
       "      <th>min</th>\n",
       "      <th>25%</th>\n",
       "      <th>50%</th>\n",
       "      <th>75%</th>\n",
       "      <th>max</th>\n",
       "    </tr>\n",
       "    <tr>\n",
       "      <th>Controller</th>\n",
       "      <th></th>\n",
       "      <th></th>\n",
       "      <th></th>\n",
       "      <th></th>\n",
       "      <th></th>\n",
       "      <th></th>\n",
       "      <th></th>\n",
       "      <th></th>\n",
       "    </tr>\n",
       "  </thead>\n",
       "  <tbody>\n",
       "    <tr>\n",
       "      <th>Controller</th>\n",
       "      <td>30.0</td>\n",
       "      <td>4.958084</td>\n",
       "      <td>0.430834</td>\n",
       "      <td>4.054013</td>\n",
       "      <td>4.747481</td>\n",
       "      <td>4.938442</td>\n",
       "      <td>5.215430</td>\n",
       "      <td>5.973998</td>\n",
       "    </tr>\n",
       "    <tr>\n",
       "      <th>Hand</th>\n",
       "      <td>30.0</td>\n",
       "      <td>5.191489</td>\n",
       "      <td>0.566522</td>\n",
       "      <td>3.860272</td>\n",
       "      <td>5.001234</td>\n",
       "      <td>5.298533</td>\n",
       "      <td>5.580385</td>\n",
       "      <td>6.131885</td>\n",
       "    </tr>\n",
       "  </tbody>\n",
       "</table>\n",
       "</div>"
      ],
      "text/plain": [
       "           Time_to_Select                                                    \\\n",
       "                    count      mean       std       min       25%       50%   \n",
       "Controller                                                                    \n",
       "Controller           30.0  4.958084  0.430834  4.054013  4.747481  4.938442   \n",
       "Hand                 30.0  5.191489  0.566522  3.860272  5.001234  5.298533   \n",
       "\n",
       "                                \n",
       "                 75%       max  \n",
       "Controller                      \n",
       "Controller  5.215430  5.973998  \n",
       "Hand        5.580385  6.131885  "
      ]
     },
     "execution_count": 50,
     "metadata": {},
     "output_type": "execute_result"
    }
   ],
   "source": [
    "# Get descriptive statistics for the easy task condition, grouped by controller\n",
    "\n",
    "easy_task_data.groupby('Controller')[['Time_to_Select']].describe()"
   ]
  },
  {
   "cell_type": "code",
   "execution_count": 51,
   "id": "c19e3d81",
   "metadata": {},
   "outputs": [
    {
     "data": {
      "text/html": [
       "<div>\n",
       "<style scoped>\n",
       "    .dataframe tbody tr th:only-of-type {\n",
       "        vertical-align: middle;\n",
       "    }\n",
       "\n",
       "    .dataframe tbody tr th {\n",
       "        vertical-align: top;\n",
       "    }\n",
       "\n",
       "    .dataframe thead tr th {\n",
       "        text-align: left;\n",
       "    }\n",
       "\n",
       "    .dataframe thead tr:last-of-type th {\n",
       "        text-align: right;\n",
       "    }\n",
       "</style>\n",
       "<table border=\"1\" class=\"dataframe\">\n",
       "  <thead>\n",
       "    <tr>\n",
       "      <th></th>\n",
       "      <th colspan=\"8\" halign=\"left\">Time_to_Select</th>\n",
       "    </tr>\n",
       "    <tr>\n",
       "      <th></th>\n",
       "      <th>count</th>\n",
       "      <th>mean</th>\n",
       "      <th>std</th>\n",
       "      <th>min</th>\n",
       "      <th>25%</th>\n",
       "      <th>50%</th>\n",
       "      <th>75%</th>\n",
       "      <th>max</th>\n",
       "    </tr>\n",
       "    <tr>\n",
       "      <th>Controller</th>\n",
       "      <th></th>\n",
       "      <th></th>\n",
       "      <th></th>\n",
       "      <th></th>\n",
       "      <th></th>\n",
       "      <th></th>\n",
       "      <th></th>\n",
       "      <th></th>\n",
       "    </tr>\n",
       "  </thead>\n",
       "  <tbody>\n",
       "    <tr>\n",
       "      <th>Controller</th>\n",
       "      <td>30.0</td>\n",
       "      <td>5.678547</td>\n",
       "      <td>0.456007</td>\n",
       "      <td>4.844338</td>\n",
       "      <td>5.409307</td>\n",
       "      <td>5.662223</td>\n",
       "      <td>5.934727</td>\n",
       "      <td>6.860085</td>\n",
       "    </tr>\n",
       "    <tr>\n",
       "      <th>Hand</th>\n",
       "      <td>30.0</td>\n",
       "      <td>6.521517</td>\n",
       "      <td>0.432965</td>\n",
       "      <td>5.760739</td>\n",
       "      <td>6.215787</td>\n",
       "      <td>6.513338</td>\n",
       "      <td>6.813805</td>\n",
       "      <td>7.466920</td>\n",
       "    </tr>\n",
       "  </tbody>\n",
       "</table>\n",
       "</div>"
      ],
      "text/plain": [
       "           Time_to_Select                                                    \\\n",
       "                    count      mean       std       min       25%       50%   \n",
       "Controller                                                                    \n",
       "Controller           30.0  5.678547  0.456007  4.844338  5.409307  5.662223   \n",
       "Hand                 30.0  6.521517  0.432965  5.760739  6.215787  6.513338   \n",
       "\n",
       "                                \n",
       "                 75%       max  \n",
       "Controller                      \n",
       "Controller  5.934727  6.860085  \n",
       "Hand        6.813805  7.466920  "
      ]
     },
     "execution_count": 51,
     "metadata": {},
     "output_type": "execute_result"
    }
   ],
   "source": [
    "medium_task_data.groupby('Controller')[['Time_to_Select']].describe()"
   ]
  },
  {
   "cell_type": "code",
   "execution_count": 52,
   "id": "3c882bc8",
   "metadata": {},
   "outputs": [
    {
     "data": {
      "text/html": [
       "<div>\n",
       "<style scoped>\n",
       "    .dataframe tbody tr th:only-of-type {\n",
       "        vertical-align: middle;\n",
       "    }\n",
       "\n",
       "    .dataframe tbody tr th {\n",
       "        vertical-align: top;\n",
       "    }\n",
       "\n",
       "    .dataframe thead tr th {\n",
       "        text-align: left;\n",
       "    }\n",
       "\n",
       "    .dataframe thead tr:last-of-type th {\n",
       "        text-align: right;\n",
       "    }\n",
       "</style>\n",
       "<table border=\"1\" class=\"dataframe\">\n",
       "  <thead>\n",
       "    <tr>\n",
       "      <th></th>\n",
       "      <th colspan=\"8\" halign=\"left\">Time_to_Select</th>\n",
       "    </tr>\n",
       "    <tr>\n",
       "      <th></th>\n",
       "      <th>count</th>\n",
       "      <th>mean</th>\n",
       "      <th>std</th>\n",
       "      <th>min</th>\n",
       "      <th>25%</th>\n",
       "      <th>50%</th>\n",
       "      <th>75%</th>\n",
       "      <th>max</th>\n",
       "    </tr>\n",
       "    <tr>\n",
       "      <th>Controller</th>\n",
       "      <th></th>\n",
       "      <th></th>\n",
       "      <th></th>\n",
       "      <th></th>\n",
       "      <th></th>\n",
       "      <th></th>\n",
       "      <th></th>\n",
       "      <th></th>\n",
       "    </tr>\n",
       "  </thead>\n",
       "  <tbody>\n",
       "    <tr>\n",
       "      <th>Controller</th>\n",
       "      <td>30.0</td>\n",
       "      <td>6.100631</td>\n",
       "      <td>0.574214</td>\n",
       "      <td>5.290019</td>\n",
       "      <td>5.666940</td>\n",
       "      <td>6.057475</td>\n",
       "      <td>6.495412</td>\n",
       "      <td>7.626993</td>\n",
       "    </tr>\n",
       "    <tr>\n",
       "      <th>Hand</th>\n",
       "      <td>30.0</td>\n",
       "      <td>7.397409</td>\n",
       "      <td>0.478232</td>\n",
       "      <td>6.481462</td>\n",
       "      <td>7.094336</td>\n",
       "      <td>7.364926</td>\n",
       "      <td>7.752051</td>\n",
       "      <td>8.271534</td>\n",
       "    </tr>\n",
       "  </tbody>\n",
       "</table>\n",
       "</div>"
      ],
      "text/plain": [
       "           Time_to_Select                                                    \\\n",
       "                    count      mean       std       min       25%       50%   \n",
       "Controller                                                                    \n",
       "Controller           30.0  6.100631  0.574214  5.290019  5.666940  6.057475   \n",
       "Hand                 30.0  7.397409  0.478232  6.481462  7.094336  7.364926   \n",
       "\n",
       "                                \n",
       "                 75%       max  \n",
       "Controller                      \n",
       "Controller  6.495412  7.626993  \n",
       "Hand        7.752051  8.271534  "
      ]
     },
     "execution_count": 52,
     "metadata": {},
     "output_type": "execute_result"
    }
   ],
   "source": [
    "hard_task_data.groupby('Controller')[['Time_to_Select']].describe()"
   ]
  },
  {
   "cell_type": "markdown",
   "id": "9f6155a9",
   "metadata": {},
   "source": [
    "#### 1.3 Visualize Distributions"
   ]
  },
  {
   "cell_type": "code",
   "execution_count": 53,
   "id": "c5eddf2d",
   "metadata": {},
   "outputs": [
    {
     "data": {
      "image/png": "[encoded data removed]",
      "text/plain": [
       "<Figure size 1800x500 with 3 Axes>"
      ]
     },
     "metadata": {},
     "output_type": "display_data"
    }
   ],
   "source": [
    "# Visualize the spread and central tendency for Time to Select  -- use boxplot\n",
    "\n",
    "# List of dataframes and task names for labeling\n",
    "task_data = [easy_task_data, medium_task_data, hard_task_data]\n",
    "task_names = [\"Easy Task\", \"Medium Task\", \"Hard Task\"]\n",
    "\n",
    "# Set up a figure with 3 subplots\n",
    "plt.figure(figsize=(18, 5))\n",
    "\n",
    "# Loop through each dataset and create a boxplot for each\n",
    "for i, (data, task_name) in enumerate(zip(task_data, task_names), 1):\n",
    "    plt.subplot(1, 3, i)\n",
    "    sns.boxplot(x=\"Controller\", y=\"Time_to_Select\", data=data)\n",
    "    plt.title(f\"Time to Select Target by Controller for {task_name}\")\n",
    "    plt.xlabel(\"Controller\")\n",
    "    plt.ylabel(\"Time to Select Target\")\n",
    "\n",
    "plt.show()"
   ]
  },
  {
   "cell_type": "code",
   "execution_count": 54,
   "id": "b7fd0e1a",
   "metadata": {},
   "outputs": [
    {
     "data": {
      "image/png": "[encoded data removed]",
      "text/plain": [
       "<Figure size 1800x500 with 3 Axes>"
      ]
     },
     "metadata": {},
     "output_type": "display_data"
    }
   ],
   "source": [
    "# Show the frequency distribution of data using histogram\n",
    "\n",
    "# Set up a figure with 3 subplots\n",
    "plt.figure(figsize=(18, 5))\n",
    "\n",
    "# Loop through each dataset and create a histogram for each\n",
    "for i, (data, task_name) in enumerate(zip(task_data, task_names), 1):\n",
    "    plt.subplot(1, 3, i)\n",
    "    sns.histplot(data=data, x=\"Time_to_Select\", hue=\"Controller\", kde=True, bins=10, element=\"step\")\n",
    "    plt.title(f\"Distribution of Time to Select Target by Controller ({task_name})\")\n",
    "    plt.xlabel(\"Time to Select Target\")\n",
    "    plt.ylabel(\"Frequency\")\n",
    "\n",
    "plt.show()"
   ]
  },
  {
   "cell_type": "markdown",
   "id": "b22724f9",
   "metadata": {},
   "source": [
    "#### 1.4 Test Normality"
   ]
  },
  {
   "cell_type": "code",
   "execution_count": 55,
   "id": "934cc448",
   "metadata": {},
   "outputs": [
    {
     "name": "stdout",
     "output_type": "stream",
     "text": [
      "Hand Controller - Shapiro-Wilk Test: Statistic=0.935, p-value=0.067\n",
      "The data is likely normally distributed.\n",
      "Controller Controller - Shapiro-Wilk Test: Statistic=0.961, p-value=0.328\n",
      "The data is likely normally distributed.\n"
     ]
    }
   ],
   "source": [
    "# Now we want to gain more confidence of our visual exploration using a statistical measure of normality\n",
    "from scipy.stats import shapiro\n",
    "\n",
    "# Shapiro-Wilk test for each controller in the easy task condition\n",
    "controllers = easy_task_data['Controller'].unique()\n",
    "\n",
    "for controller in controllers:\n",
    "    data = easy_task_data[easy_task_data['Controller'] == controller]['Time_to_Select']\n",
    "    stat, p_value = shapiro(data)\n",
    "    print(f\"{controller} Controller - Shapiro-Wilk Test: Statistic={stat:.3f}, p-value={p_value:.3f}\")\n",
    "    if p_value < 0.05:\n",
    "        print(\"The data is likely not normally distributed.\")\n",
    "    else:\n",
    "        print(\"The data is likely normally distributed.\")"
   ]
  },
  {
   "cell_type": "code",
   "execution_count": 56,
   "id": "c26cc4cf",
   "metadata": {},
   "outputs": [
    {
     "name": "stdout",
     "output_type": "stream",
     "text": [
      "Shapiro-Wilk Test for Easy Task Condition:\n",
      "  Hand Controller - Statistic=0.935, p-value=0.067\n",
      "    The data is likely normally distributed.\n",
      "  Controller Controller - Statistic=0.961, p-value=0.328\n",
      "    The data is likely normally distributed.\n",
      "\n",
      "\n",
      "Shapiro-Wilk Test for Medium Task Condition:\n",
      "  Hand Controller - Statistic=0.981, p-value=0.840\n",
      "    The data is likely normally distributed.\n",
      "  Controller Controller - Statistic=0.976, p-value=0.705\n",
      "    The data is likely normally distributed.\n",
      "\n",
      "\n",
      "Shapiro-Wilk Test for Hard Task Condition:\n",
      "  Hand Controller - Statistic=0.976, p-value=0.715\n",
      "    The data is likely normally distributed.\n",
      "  Controller Controller - Statistic=0.951, p-value=0.175\n",
      "    The data is likely normally distributed.\n",
      "\n",
      "\n"
     ]
    }
   ],
   "source": [
    "# Loop through each dataset and each controller to perform Shapiro-Wilk test\n",
    "for data, task_name in zip(task_data, task_names):\n",
    "    print(f\"Shapiro-Wilk Test for {task_name} Condition:\")\n",
    "    controllers = data['Controller'].unique()\n",
    "    for controller in controllers:\n",
    "        controller_data = data[data['Controller'] == controller]['Time_to_Select']\n",
    "        stat, p_value = shapiro(controller_data)\n",
    "        print(f\"  {controller} Controller - Statistic={stat:.3f}, p-value={p_value:.3f}\")\n",
    "        if p_value < 0.05:\n",
    "            print(\"    The data is likely not normally distributed.\")\n",
    "        else:\n",
    "            print(\"    The data is likely normally distributed.\")\n",
    "    print(\"\\n\")"
   ]
  },
  {
   "cell_type": "markdown",
   "id": "cefc6a53",
   "metadata": {},
   "source": [
    "### Step 2. Select Statistical Test"
   ]
  },
  {
   "cell_type": "markdown",
   "id": "f20d0790",
   "metadata": {},
   "source": [
    "- Action: ?\n",
    "- Parametric vs Non-parametric: ?\n",
    "- Data Type: ?\n",
    "- Number of Groups: ?\n",
    "- Unequal vs Equal Sample Sizes: ?\n",
    "- Independency of the Sample: ?\n",
    "\n",
    "Fill in the blanket: **We will conduct a [statistical test] as [data [not] meets assumptions]**\n",
    "\n",
    "![](decision_tree.jpeg)"
   ]
  },
  {
   "cell_type": "markdown",
   "id": "70c57779",
   "metadata": {},
   "source": [
    "We will conduct a related sample t-test as our data holds the following assumption:\n",
    "\n",
    "- Paired/Dependent: Observations in each pair are related\n",
    "- Continuous Variable: Dependent variable should be continuous\n",
    "- Normality of Differences:\tDifferences between pairs are approximately normal\n",
    "- Interval Data"
   ]
  },
  {
   "cell_type": "markdown",
   "id": "eab99295",
   "metadata": {},
   "source": [
    "### Step 3. Perform Hypothesis Testing"
   ]
  },
  {
   "cell_type": "markdown",
   "id": "6042dc9c",
   "metadata": {},
   "source": [
    "#### 3.1 Calculate p-value"
   ]
  },
  {
   "cell_type": "code",
   "execution_count": 57,
   "id": "bac6b93c",
   "metadata": {},
   "outputs": [
    {
     "name": "stdout",
     "output_type": "stream",
     "text": [
      "Paired t-test results for Time to Select Target (Easy Task):\n",
      "t-statistic: 1.974, p-value: 0.058\n"
     ]
    }
   ],
   "source": [
    "from scipy.stats import ttest_rel\n",
    "\n",
    "# Separate the time data for each controller\n",
    "time_a = easy_task_data[easy_task_data['Controller'] == 'Hand']['Time_to_Select']\n",
    "time_b = easy_task_data[easy_task_data['Controller'] == 'Controller']['Time_to_Select']\n",
    "\n",
    "stat, p_value = ttest_rel(time_a, time_b)\n",
    "print(\"Paired t-test results for Time to Select Target (Easy Task):\")\n",
    "print(f\"t-statistic: {stat:.3f}, p-value: {p_value:.3f}\")"
   ]
  },
  {
   "cell_type": "code",
   "execution_count": 58,
   "id": "809f3d2a",
   "metadata": {},
   "outputs": [
    {
     "name": "stdout",
     "output_type": "stream",
     "text": [
      "Paired t-test results for Time to Select Target (Easy Task):\n",
      "t-statistic: 1.974, p-value: 0.058\n",
      "There is no statistically significant difference in Time to Select between Hand and Controller for the Easy Task.\n",
      "\n",
      "Paired t-test results for Time to Select Target (Medium Task):\n",
      "t-statistic: 7.803, p-value: 0.000\n",
      "There is a statistically significant difference in Time to Select between Hand and Controller for the Medium Task.\n",
      "\n",
      "Paired t-test results for Time to Select Target (Hard Task):\n",
      "t-statistic: 9.398, p-value: 0.000\n",
      "There is a statistically significant difference in Time to Select between Hand and Controller for the Hard Task.\n",
      "\n"
     ]
    }
   ],
   "source": [
    "# Loop through each dataset and perform paired t-test for each task difficulty level\n",
    "for data, task_name in zip(task_data, task_names):\n",
    "    # Separate the time data for each controller\n",
    "    time_hand = data[data['Controller'] == 'Hand']['Time_to_Select']\n",
    "    time_controller = data[data['Controller'] == 'Controller']['Time_to_Select']\n",
    "    \n",
    "    # Perform paired t-test\n",
    "    stat, p_value = ttest_rel(time_hand, time_controller)\n",
    "    print(f\"Paired t-test results for Time to Select Target ({task_name}):\")\n",
    "    print(f\"t-statistic: {stat:.3f}, p-value: {p_value:.3f}\")\n",
    "    \n",
    "    # Interpret results\n",
    "    if p_value < 0.05:\n",
    "        print(f\"There is a statistically significant difference in Time to Select between Hand and Controller for the {task_name}.\\n\")\n",
    "    else:\n",
    "        print(f\"There is no statistically significant difference in Time to Select between Hand and Controller for the {task_name}.\\n\")"
   ]
  },
  {
   "cell_type": "markdown",
   "id": "0bf8dedc",
   "metadata": {},
   "source": [
    "**Result interpretation** \n",
    "\n",
    "There is no statistically significant difference in Time to Select between Controller A and B for the easy task."
   ]
  },
  {
   "cell_type": "markdown",
   "id": "97ed4c66",
   "metadata": {},
   "source": [
    "#### Step 4. Write up the results\n",
    "\n",
    "**Template**\n",
    "\n",
    "To compare the effect of the [independent variable] on the [dependent variable], we conducted a [statistical test] as [data [not] meets assumptions]. \n",
    "\n",
    "With [condition A, … (M = XX, SD = X)]. With [condition B, (M = XX, SD = XX]. \n",
    "\n",
    "The mean difference between the two groups was [statistically [not]] significant; [DOF of test, p-value, etc].\n",
    "\n",
    "These results indicate that [condition A was … than condition B]. \t"
   ]
  },
  {
   "cell_type": "markdown",
   "id": "cdf3398f",
   "metadata": {},
   "source": [
    "**Our Results**\n",
    "\n",
    "[easy tasks]\n",
    "\n",
    "To compare the effect of the controller type on the time to select a target for easy tasks, we conducted a paired t-test, as the data met the assumptions of normality (Hand: W=0.935, p=0.067; Controller: W=0.961, p=0.328). \n",
    "\n",
    "For the hand controller, the mean time to select was M=5.19, SD=0.57. For the physical controller, the mean time was M=4.96, SD=0.43\n",
    "\n",
    "The mean difference between the two groups was not statistically significant, t(29)=1.974, p=0.058. \n",
    "\n",
    "These results indicate that there was no significant difference in time to select a target between the hand and physical controllers for the easy task condition."
   ]
  },
  {
   "cell_type": "markdown",
   "id": "eb0fe1e1",
   "metadata": {},
   "source": [
    "## Hypothesis 2\n",
    "\n",
    "- *H2*: Using controller A produces less errors than controller B\n",
    "- *H2_0*: There is no difference in errors between controller A and B"
   ]
  },
  {
   "cell_type": "markdown",
   "id": "a4582fa7",
   "metadata": {},
   "source": [
    "Feel free to practice on your own!"
   ]
  },
  {
   "cell_type": "code",
   "execution_count": 60,
   "id": "e47e2e10",
   "metadata": {},
   "outputs": [],
   "source": [
    "# hypothesis 2 "
   ]
  },
  {
   "cell_type": "markdown",
   "id": "655c529c",
   "metadata": {},
   "source": [
    "## Hypothesis 3\n",
    "\n",
    "- *H3*: Using controller A produces less task load than controller B\n",
    "- *H3_0*: There is no difference in task load between controller A and B"
   ]
  },
  {
   "cell_type": "markdown",
   "id": "7d05a2a2",
   "metadata": {},
   "source": [
    "Feel free to practice on your own!"
   ]
  },
  {
   "cell_type": "code",
   "execution_count": 59,
   "id": "95045e5f",
   "metadata": {},
   "outputs": [],
   "source": [
    "# hypothesis 3"
   ]
  },
  {
   "cell_type": "markdown",
   "id": "638ee324",
   "metadata": {},
   "source": [
    "## More Examples"
   ]
  },
  {
   "cell_type": "markdown",
   "id": "0aafebe8",
   "metadata": {},
   "source": [
    "### Study 1: Comparing Two Teaching Methods\n",
    "\n",
    "A school implements two different teaching methods (Method A and Method B) and evaluates their impact on students' test scores. Half of the students are taught using Method A, while the other half are taught using Method B. The goal is to determine which method results in higher test scores.\n",
    "\n",
    "Question: Which test should you use to compare the effectiveness of the two teaching methods?"
   ]
  },
  {
   "cell_type": "markdown",
   "id": "fe12ad79",
   "metadata": {},
   "source": [
    "----\n",
    "Answer: \n",
    "- **Independent Variable**: Teaching method (A, B; between-subjects).\n",
    "- **Dependent Variable**: Test scores (continuous).\n",
    "- **Hypothesis**: Students taught using Method A will score higher than those taught using Method B.\n",
    "- **Expected Test**: Independent-samples t-test."
   ]
  },
  {
   "cell_type": "markdown",
   "id": "57ac5168",
   "metadata": {},
   "source": [
    "### Study 2: Comparing Stress Levels\n",
    "\n",
    "A group of employees participates in a six-week mindfulness program. Their stress levels are measured at the beginning and at the end of the program. The researcher wants to determine if the program effectively reduces stress.\n",
    "\n",
    "Question: How would you analyze whether the mindfulness program reduces stress levels?\n"
   ]
  },
  {
   "cell_type": "markdown",
   "id": "527c9c74",
   "metadata": {},
   "source": [
    "----\n",
    "Answer:\n",
    "\n",
    "- **Independent Variable**: Time (Pre-program, Post-program; within-subjects).\n",
    "- **Dependent Variable**: Stress levels (continuous).\n",
    "- **Hypothesis**: Stress levels will decrease after the mindfulness program.\n",
    "- **Expected Test**: Paired-samples t-test (Related-samples t-test)"
   ]
  },
  {
   "cell_type": "markdown",
   "id": "8103bb19",
   "metadata": {},
   "source": [
    "### Study 3: Ad Effectiveness Across Age Groups\n",
    "\n",
    "A company tests two types of advertisements (visual and textual) on individuals from three age groups (18–25, 26–40, 41+). Participants are exposed to one type of ad and their click-through rates are recorded. The researcher is interested in whether ad type and age group influence click-through rates.\n",
    "\n",
    "Question: What statistical approach would you use to evaluate the influence of ad type and age group?"
   ]
  },
  {
   "cell_type": "markdown",
   "id": "8fa26617",
   "metadata": {},
   "source": [
    "----\n",
    "Answer:\n",
    "- **Independent Variables**: Ad type (Visual, Textual; between-subjects); Age group (18-25, 26-40, 41+; between-subjects).\n",
    "- **Dependent Variable**: Click-through rate (percentage, continuous).\n",
    "- **Hypothesis**: Ad effectiveness depends on both the type of ad and the age group.\n",
    "- **Expected Test**: Two-way ANOVA."
   ]
  },
  {
   "cell_type": "markdown",
   "id": "0f63f72a",
   "metadata": {},
   "source": [
    "### Study 4:  Exercise and Weight Loss (Optional)\n",
    "\n",
    "A fitness trainer collects data on how many hours per week clients exercise and their corresponding weight loss over three months. The trainer wants to understand if there’s a relationship between exercise time and weight loss.\n",
    "\n",
    "Question: What test would you use to analyze the relationship between exercise time and weight loss?"
   ]
  },
  {
   "cell_type": "markdown",
   "id": "bce1d9e4",
   "metadata": {},
   "source": [
    "----\n",
    "Answer:\n",
    "- **Variables**: Time spent exercising (hours, continuous); Weight loss (kilograms, continuous).\n",
    "- **Hypothesis**: Greater time spent exercising is associated with greater weight loss.\n",
    "- **Expected Test**: Pearson correlation"
   ]
  },
  {
   "cell_type": "markdown",
   "id": "40c6a4dc",
   "metadata": {},
   "source": [
    "### Study 5: Temperature and Bacterial Growth (Optional)\n",
    "\n",
    "A scientist observes bacterial growth rates at different temperatures (e.g., 15°C, 25°C, 35°C, 45°C). The goal is to identify whether the growth rate depends on temperature and if the relationship is linear or non-linear.\n",
    "\n",
    "Question: What statistical method would you use to analyze this data?"
   ]
  },
  {
   "cell_type": "markdown",
   "id": "9c805ebe",
   "metadata": {},
   "source": [
    "----\n",
    "Answer:\n",
    "\n",
    "- **Variables**: Temperature (continuous); Growth rate (continuous).\n",
    "- **Hypothesis**: Bacteria growth follows a non-linear pattern based on temperature.\n",
    "- **Expected Test**: Polynomial regression."
   ]
  },
  {
   "cell_type": "markdown",
   "id": "f10aab6c",
   "metadata": {},
   "source": [
    "### Study 6: Drug Recovery Rates (Optional)\n",
    "\n",
    "A clinical study evaluates whether recovery rates differ between patients using Drug A and Drug B. The number of patients who recover and do not recover is recorded for each drug group.\n",
    "\n",
    "Question: What test would you use to determine if there’s a difference in recovery rates?"
   ]
  },
  {
   "cell_type": "markdown",
   "id": "b92abb5d",
   "metadata": {},
   "source": [
    "----\n",
    "Answer:\n",
    "\n",
    "- **Independent Variable**: Drug type (A, B; between-subjects).\n",
    "- **Dependent Variable**: Recovery rate (proportion of patients recovered).\n",
    "- **Hypothesis**: Recovery rates differ between Drug A and Drug B.\n",
    "- **Expected Test**: Chi-square test of independence."
   ]
  },
  {
   "cell_type": "markdown",
   "id": "4afebff4",
   "metadata": {},
   "source": [
    "### Study 7: Effect of Diets Over Time (Optional)\n",
    "\n",
    "Athletes are assigned one of three diets (Diet A, Diet B, or Diet C). Their performance is measured weekly for four weeks. The researcher wants to analyze how performance changes over time and whether it depends on the type of diet.\n",
    "\n",
    "Question: How would you analyze this dataset to study the effects of diet and time on performance?"
   ]
  },
  {
   "cell_type": "markdown",
   "id": "c1aefe1a",
   "metadata": {},
   "source": [
    "----\n",
    "Answer:\n",
    "- **Independent Variables**: Diet type (A, B, C; between-subjects); Time (Week 1, Week 2, Week 3, Week 4; within-subjects).\n",
    "- **Dependent Variable**: Performance score (continuous).\n",
    "- **Hypothesis**: Diet effectiveness on performance changes over time.\n",
    "- **Expected Test**: Two-way repeated-measures ANOVA.\n"
   ]
  },
  {
   "cell_type": "markdown",
   "id": "8ed79cbd",
   "metadata": {},
   "source": []
  }
 ],
 "metadata": {
  "kernelspec": {
   "display_name": "Python 3",
   "language": "python",
   "name": "python3"
  },
  "language_info": {
   "codemirror_mode": {
    "name": "ipython",
    "version": 3
   },
   "file_extension": ".py",
   "mimetype": "text/x-python",
   "name": "python",
   "nbconvert_exporter": "python",
   "pygments_lexer": "ipython3",
   "version": "3.11.5"
  }
 },
 "nbformat": 4,
 "nbformat_minor": 5
}
