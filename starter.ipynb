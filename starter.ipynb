{
 "cells": [
  {
   "cell_type": "markdown",
   "id": "0d5e1cb8",
   "metadata": {},
   "source": [
    "# VR Controller Data Analysis"
   ]
  },
  {
   "cell_type": "markdown",
   "id": "7af325a7",
   "metadata": {},
   "source": [
    "## Introduction\n",
    "\n",
    "Which VR controller is better?\n",
    "\n",
    "Task: Selection in 3D (easy, medium, hard)\n",
    "\n",
    "- IV1: Controller (2 levels: H, C)\n",
    "- IV2: Task difficulty (3 levels: E, M, H)\n",
    "- 6 Conditions:  HE,HM,HH,CE,CM,CH\n",
    "- Within-subject \n",
    "- DV1: Time to select target\n",
    "- DV2: Wrongly selected target\n",
    "- DV3: Perceived task load (preference)"
   ]
  },
  {
   "cell_type": "markdown",
   "id": "b5ba63a3",
   "metadata": {},
   "source": [
    "## Load Data and Package"
   ]
  },
  {
   "cell_type": "code",
   "execution_count": 2,
   "id": "a1f23d05",
   "metadata": {},
   "outputs": [],
   "source": [
    "# Import necessary packages\n",
    "\n",
    "import pandas as pd"
   ]
  },
  {
   "cell_type": "code",
   "execution_count": 65,
   "id": "b76de562",
   "metadata": {},
   "outputs": [
    {
     "data": {
      "text/html": [
       "<div>\n",
       "<style scoped>\n",
       "    .dataframe tbody tr th:only-of-type {\n",
       "        vertical-align: middle;\n",
       "    }\n",
       "\n",
       "    .dataframe tbody tr th {\n",
       "        vertical-align: top;\n",
       "    }\n",
       "\n",
       "    .dataframe thead th {\n",
       "        text-align: right;\n",
       "    }\n",
       "</style>\n",
       "<table border=\"1\" class=\"dataframe\">\n",
       "  <thead>\n",
       "    <tr style=\"text-align: right;\">\n",
       "      <th></th>\n",
       "      <th>Participant</th>\n",
       "      <th>Condition</th>\n",
       "      <th>Controller</th>\n",
       "      <th>Task_Difficulty</th>\n",
       "      <th>Time_to_Select</th>\n",
       "      <th>Wrongly_Selected_Target</th>\n",
       "      <th>Perceived_Task_Load</th>\n",
       "    </tr>\n",
       "  </thead>\n",
       "  <tbody>\n",
       "    <tr>\n",
       "      <th>0</th>\n",
       "      <td>1</td>\n",
       "      <td>HE</td>\n",
       "      <td>Hand</td>\n",
       "      <td>Easy</td>\n",
       "      <td>5.548357</td>\n",
       "      <td>0</td>\n",
       "      <td>5</td>\n",
       "    </tr>\n",
       "    <tr>\n",
       "      <th>1</th>\n",
       "      <td>1</td>\n",
       "      <td>CE</td>\n",
       "      <td>Controller</td>\n",
       "      <td>Easy</td>\n",
       "      <td>4.730868</td>\n",
       "      <td>0</td>\n",
       "      <td>2</td>\n",
       "    </tr>\n",
       "    <tr>\n",
       "      <th>2</th>\n",
       "      <td>1</td>\n",
       "      <td>HM</td>\n",
       "      <td>Hand</td>\n",
       "      <td>Medium</td>\n",
       "      <td>6.639521</td>\n",
       "      <td>1</td>\n",
       "      <td>3</td>\n",
       "    </tr>\n",
       "    <tr>\n",
       "      <th>3</th>\n",
       "      <td>1</td>\n",
       "      <td>CM</td>\n",
       "      <td>Controller</td>\n",
       "      <td>Medium</td>\n",
       "      <td>6.005258</td>\n",
       "      <td>0</td>\n",
       "      <td>5</td>\n",
       "    </tr>\n",
       "    <tr>\n",
       "      <th>4</th>\n",
       "      <td>1</td>\n",
       "      <td>HH</td>\n",
       "      <td>Hand</td>\n",
       "      <td>Hard</td>\n",
       "      <td>7.209561</td>\n",
       "      <td>1</td>\n",
       "      <td>1</td>\n",
       "    </tr>\n",
       "  </tbody>\n",
       "</table>\n",
       "</div>"
      ],
      "text/plain": [
       "   Participant Condition  Controller Task_Difficulty  Time_to_Select  \\\n",
       "0            1        HE        Hand            Easy        5.548357   \n",
       "1            1        CE  Controller            Easy        4.730868   \n",
       "2            1        HM        Hand          Medium        6.639521   \n",
       "3            1        CM  Controller          Medium        6.005258   \n",
       "4            1        HH        Hand            Hard        7.209561   \n",
       "\n",
       "   Wrongly_Selected_Target  Perceived_Task_Load  \n",
       "0                        0                    5  \n",
       "1                        0                    2  \n",
       "2                        1                    3  \n",
       "3                        0                    5  \n",
       "4                        1                    1  "
      ]
     },
     "execution_count": 3,
     "metadata": {},
     "output_type": "execute_result"
    }
   ],
   "source": [
    "# Load the dataset\n",
    "data = pd.read_csv(\"dataset.csv\")\n",
    "\n",
    "# Display the first few rows of the data\n",
    "data.head()"
   ]
  },
  {
   "cell_type": "markdown",
   "id": "b01334f0",
   "metadata": {},
   "source": [
    "## Hypothesis 1\n",
    "\n",
    "- *H1.1*: For easy tasks, controller A is faster than controller B.\n",
    "- *H1.1_0*: For easy tasks, there is no difference in speed between controller A and B\n",
    "\n",
    "- *H1.2*: For medium tasks, controller A is faster than controller B.\n",
    "- *H1.2_0*: For medium tasks, there is no difference in speed between controller A and B\n",
    "\n",
    "- *H1.3*: For hard tasks, controller A is faster than controller B.\n",
    "- *H1.3_0*: For hard tasks, there is no difference in speed between controller A and B"
   ]
  },
  {
   "cell_type": "markdown",
   "id": "216abe33",
   "metadata": {},
   "source": [
    "### Step 1. Check properties of your data"
   ]
  },
  {
   "cell_type": "markdown",
   "id": "9a5a2ae0",
   "metadata": {},
   "source": [
    "#### 1.1 Isolating the data from task difficulty\n"
   ]
  },
  {
   "cell_type": "code",
   "execution_count": null,
   "id": "236c3dda",
   "metadata": {},
   "outputs": [],
   "source": []
  },
  {
   "cell_type": "markdown",
   "id": "2e99c1af",
   "metadata": {},
   "source": [
    "#### 1.2 Descriptive Statistics"
   ]
  },
  {
   "cell_type": "code",
   "execution_count": null,
   "id": "c843fd4d",
   "metadata": {},
   "outputs": [],
   "source": [
    "# Get descriptive statistics for the each task difficulty level, grouped by controller"
   ]
  },
  {
   "cell_type": "markdown",
   "id": "9f6155a9",
   "metadata": {},
   "source": [
    "#### 1.3 Visualize Distributions"
   ]
  },
  {
   "cell_type": "code",
   "execution_count": 5,
   "id": "c5eddf2d",
   "metadata": {},
   "outputs": [],
   "source": [
    "# Visualize the spread and central tendency for Time to Select  -- use boxplot"
   ]
  },
  {
   "cell_type": "code",
   "execution_count": 6,
   "id": "b7fd0e1a",
   "metadata": {},
   "outputs": [],
   "source": [
    "# Show the frequency distribution of data using histogram"
   ]
  },
  {
   "cell_type": "markdown",
   "id": "b22724f9",
   "metadata": {},
   "source": [
    "#### 1.4 Test Normality"
   ]
  },
  {
   "cell_type": "code",
   "execution_count": 7,
   "id": "934cc448",
   "metadata": {},
   "outputs": [],
   "source": [
    "# Now we want to gain more confidence of our visual exploration using a statistical measure of normality"
   ]
  },
  {
   "cell_type": "markdown",
   "id": "cefc6a53",
   "metadata": {},
   "source": [
    "### Step 2. Select Statistical Test"
   ]
  },
  {
   "cell_type": "markdown",
   "id": "f20d0790",
   "metadata": {},
   "source": [
    "- Action: ?\n",
    "- Parametric vs Non-parametric: ?\n",
    "- Data Type: ?\n",
    "- Number of Groups: ?\n",
    "- Unequal vs Equal Sample Sizes: ?\n",
    "- Independency of the Sample: ?\n",
    "\n",
    "Fill in the blanket: **We will conduct a [statistical test] as [data [not] meets assumptions]**\n",
    "\n",
    "![](decision_tree.jpeg)"
   ]
  },
  {
   "cell_type": "markdown",
   "id": "eab99295",
   "metadata": {},
   "source": [
    "### Step 3. Perform Hypothesis Testing"
   ]
  },
  {
   "cell_type": "markdown",
   "id": "6042dc9c",
   "metadata": {},
   "source": [
    "#### 3.1 Calculate p-value"
   ]
  },
  {
   "cell_type": "code",
   "execution_count": null,
   "id": "2f7a6a51",
   "metadata": {},
   "outputs": [],
   "source": []
  },
  {
   "cell_type": "markdown",
   "id": "97ed4c66",
   "metadata": {},
   "source": [
    "#### Step 4. Write up the results\n",
    "\n",
    "**Template**\n",
    "\n",
    "To compare the effect of the [independent variable] on the [dependent variable], we conducted a [statistical test] as [data [not] meets assumptions]. \n",
    "\n",
    "With [condition A, … (M = XX, SD = X)]. With [condition B, (M = XX, SD = XX]. \n",
    "\n",
    "The mean difference between the two groups was [statistically [not]] significant; [DOF of test, p-value, etc].\n",
    "\n",
    "These results indicate that [condition A was … than condition B]. \t"
   ]
  },
  {
   "cell_type": "markdown",
   "id": "40aa5719",
   "metadata": {},
   "source": []
  },
  {
   "cell_type": "markdown",
   "id": "eb0fe1e1",
   "metadata": {},
   "source": [
    "## Hypothesis 2\n",
    "\n",
    "- *H2*: Using controller A produces less errors than controller B\n",
    "- *H2_0*: There is no difference in errors between controller A and B"
   ]
  },
  {
   "cell_type": "markdown",
   "id": "a4582fa7",
   "metadata": {},
   "source": [
    "Feel free to practice on your own!"
   ]
  },
  {
   "cell_type": "code",
   "execution_count": null,
   "id": "f4214869",
   "metadata": {},
   "outputs": [],
   "source": []
  },
  {
   "cell_type": "markdown",
   "id": "655c529c",
   "metadata": {},
   "source": [
    "## Hypothesis 3\n",
    "\n",
    "- *H2*: Using controller A produces less errors than controller B\n",
    "- *H2_0*: There is no difference in errors between controller A and B\n",
    "\n",
    "- *H3*: Using controller A produces less task load than controller B\n",
    "- *H3_0*: There is no difference in task load between controller A and B"
   ]
  },
  {
   "cell_type": "markdown",
   "id": "7d05a2a2",
   "metadata": {},
   "source": [
    "Feel free to practice on your own!"
   ]
  },
  {
   "cell_type": "markdown",
   "id": "95045e5f",
   "metadata": {},
   "source": []
  }
 ],
 "metadata": {
  "kernelspec": {
   "display_name": "Python 3",
   "language": "python",
   "name": "python3"
  },
  "language_info": {
   "codemirror_mode": {
    "name": "ipython",
    "version": 3
   },
   "file_extension": ".py",
   "mimetype": "text/x-python",
   "name": "python",
   "nbconvert_exporter": "python",
   "pygments_lexer": "ipython3",
   "version": "3.11.5"
  }
 },
 "nbformat": 4,
 "nbformat_minor": 5
}
